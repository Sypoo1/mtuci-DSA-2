{
 "cells": [
  {
   "cell_type": "markdown",
   "metadata": {},
   "source": [
    "Шамсутдинов Рустам БВТ2201\n",
    "\n",
    "Лабораторная работа № 1"
   ]
  },
  {
   "cell_type": "markdown",
   "metadata": {},
   "source": [
    "Задание\n",
    "\n",
    "Придумать алгоритм принятия следующего решения:\n",
    "\n",
    "Едем и выбираем отель по двум характеристикам - стоимость и кол-во звёзд. У нас ограниченный бюджет N\n",
    "\n",
    "Мы не знаем характеристики отеля, который увидим следующим (генерируется случайно)\n",
    "\n",
    "Нужно за наикратчайшее время выбрать наилучший отель\n",
    "\n",
    "Стоимость отеля зависит от количества звёзд (ну как зависит. 2 звёзды будут, очевидно, дешевле 5-ти. Но 4 звёзды могут быть дороже 5)\n",
    "\n",
    "Вы можете запомнить отели которые проехали, но не можете в них вернуться \n"
   ]
  },
  {
   "cell_type": "markdown",
   "metadata": {},
   "source": [
    "Рассуждения\n",
    "\n",
    "1 Берем только один фактор.\n",
    "\n",
    "\n",
    "1.1 Если единственный фактор это время => выбираем первый отель, на который хватит денег\n",
    "\n",
    "1.2 Если единственный фактор это кол-во звезд => выбираем первый 5 звездочный отель, на который хватит денег (т.к. отелей бесконечное количесвто, то когда-нибудь должен встретиться такой вариант)\n",
    "\n",
    "1.3 Если единственный фактор это деньги => выбираем самый дешёвый отель (ищем отель за одну копейку)\n",
    "\n",
    "\n",
    "2 Комбинируем факторы.\n",
    "\n",
    "2.1 звезды и время => первый 5-ти звездочный, на который хватит денег\n",
    "\n",
    "2.2 звездый и деньги => самый дешёвый 5-ти звездочный отель\n",
    "\n",
    "2.3 время и деньги => у нас нет времени чтобы искать самый дешёвый отель, поэтому нужно решить, сколько времени мы готовы потратить на анализ цен отелей. Качество нашего анализа зависит от количества отелей, которые мы проехали, то есть от затраченного времени. Значит нужно определить, какое качество анализа будет нас устраивать. Нет смысла анализировать цены отелей на основе одного отеля, поэтому минимальное кол-во отелей для анализа равно двум. \n",
    "\n",
    "\n",
    "3 Все три фактора\n",
    "\n",
    "Каждый раз, когда мы встречаем отель, который можем себе позволить, считаем вероятность того, что следующий отель будет не хуже текущего и нам по карманам. Если эта вероятность больше, чем ей обратная (то есть больше  0.5), то едем к следующему отелю, иначе остаемся на текущем.\n",
    "\n",
    "\n"
   ]
  },
  {
   "cell_type": "code",
   "execution_count": 1016,
   "metadata": {},
   "outputs": [],
   "source": [
    "from random import randint\n",
    "\n",
    "def generate_hotel_params() -> (int, int):\n",
    "    stars = randint(1,5)\n",
    "    base = randint(1, 150)\n",
    "    \n",
    "    stars_koeff = stars ** 3\n",
    "    price = base * stars_koeff\n",
    "\n",
    "    return stars, price"
   ]
  },
  {
   "cell_type": "code",
   "execution_count": 1017,
   "metadata": {},
   "outputs": [],
   "source": [
    "# Сколько процентов отелей определенной звездности можно себе позволить\n",
    "def affordable_probability_count(stars_index: int, balance: int) -> float:\n",
    "    probability = 0\n",
    "    \n",
    "    if len(previous_hotels[stars_index]) == 0:\n",
    "        return 0\n",
    "\n",
    "    affordable_hotels_count = 0\n",
    "\n",
    "    for hotel_price in previous_hotels[stars_index]:\n",
    "        if balance >= hotel_price:\n",
    "            affordable_hotels_count += 1\n",
    "\n",
    "    probability = affordable_hotels_count / len(previous_hotels[stars_index])\n",
    "    \n",
    "    return probability"
   ]
  },
  {
   "cell_type": "code",
   "execution_count": 1018,
   "metadata": {},
   "outputs": [],
   "source": [
    "def is_next_better_or_same_and_affordable(stars: int, price: int, balance: int) -> bool:\n",
    "    probability = 0\n",
    "\n",
    "    # Вероятность того, что следующий отель будет звёздности не ниже текущей и мы сможем его себе позволить\n",
    "    for stars_index in range(stars - 1, 5):\n",
    "        probability += affordable_probability_count(stars_index, balance)\n",
    "\n",
    "\n",
    "    return probability >= 0.5"
   ]
  },
  {
   "cell_type": "code",
   "execution_count": 1019,
   "metadata": {},
   "outputs": [],
   "source": [
    "def find_hotel(balance: int) -> dict:\n",
    " \n",
    "    hotels_count = 0\n",
    "\n",
    "    while True:\n",
    "\n",
    "        stars, price = generate_hotel_params() # генерируем случайный отель\n",
    "        hotels_count += 1\n",
    "        previous_hotels[stars - 1].append(price) # запоминаем его характеристики\n",
    "\n",
    "\n",
    "        # если баланс сильно больше, чем самые дороги отели, то нет смысла искать дешёвый 5-ти звёздочный отель (в таком случае мой алгоритм бесконечно ищет отель)\n",
    "        # if stars == 5 and balance >= price:\n",
    "        #     break\n",
    "        \n",
    "        # Если не можем себе позволить отель, то отправляемся к другому\n",
    "        if balance < price:\n",
    "            continue\n",
    "\n",
    "        # Если вероятность того, что следующий отель не хуже текущего и нам по карману, больше 0.5 , то отправляемся к нему\n",
    "        if is_next_better_or_same_and_affordable(stars, price, balance):\n",
    "            continue\n",
    "        # иначе останавливаемся в текущем отеле\n",
    "        else:\n",
    "            break \n",
    "\n",
    "    \n",
    "    return {\n",
    "        \"stars\": stars,\n",
    "        \"price\": price,\n",
    "        \"hotels_count\": hotels_count\n",
    "    }"
   ]
  },
  {
   "cell_type": "code",
   "execution_count": 1020,
   "metadata": {},
   "outputs": [
    {
     "name": "stdout",
     "output_type": "stream",
     "text": [
      "{'stars': 5, 'price': 625, 'hotels_count': 8}\n"
     ]
    }
   ],
   "source": [
    "N = 1000 # balance\n",
    "\n",
    "\n",
    "previous_hotels = [[],[],[],[],[]]\n",
    "\n",
    "print(find_hotel(N))\n",
    "\n",
    "# print(previous_hotels)"
   ]
  }
 ],
 "metadata": {
  "kernelspec": {
   "display_name": "Python 3",
   "language": "python",
   "name": "python3"
  },
  "language_info": {
   "codemirror_mode": {
    "name": "ipython",
    "version": 3
   },
   "file_extension": ".py",
   "mimetype": "text/x-python",
   "name": "python",
   "nbconvert_exporter": "python",
   "pygments_lexer": "ipython3",
   "version": "3.10.12"
  }
 },
 "nbformat": 4,
 "nbformat_minor": 2
}
