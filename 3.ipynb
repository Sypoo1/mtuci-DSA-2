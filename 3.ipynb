{
 "cells": [
  {
   "cell_type": "markdown",
   "metadata": {},
   "source": [
    "Шамсутдинов Рустам БВТ2201\n",
    "\n",
    "Лабораторная работа 3 по сиаод: \n",
    "\n",
    "генетический алгоритм для задачи OneMax"
   ]
  },
  {
   "cell_type": "code",
   "execution_count": 1,
   "metadata": {},
   "outputs": [],
   "source": [
    "import random"
   ]
  },
  {
   "cell_type": "code",
   "execution_count": 2,
   "metadata": {},
   "outputs": [],
   "source": [
    "GENES_LENGTH = 20 # длина массива генов\n",
    "\n",
    "POPULATION_SIZE = 200   # количество индивидуумов в популяции\n",
    "MUTATION_CHANCE = 0.1   # вероятность мутации\n",
    "\n",
    "\n",
    "# RANDOM_SEED = 111\n",
    "# random.seed(RANDOM_SEED)"
   ]
  },
  {
   "cell_type": "code",
   "execution_count": 3,
   "metadata": {},
   "outputs": [],
   "source": [
    "def generate_random_genes():\n",
    "    return [random.randint(0, 1) for _ in range(GENES_LENGTH)]"
   ]
  },
  {
   "cell_type": "code",
   "execution_count": 4,
   "metadata": {},
   "outputs": [],
   "source": [
    "class Individual():\n",
    "    def __init__(self, genes: list[int] | None = None):\n",
    "\n",
    "        if genes is None:\n",
    "            self.genes = generate_random_genes()\n",
    "        else:\n",
    "            self.genes = genes\n",
    "\n",
    "\n",
    "    def mutation(self):\n",
    "        if random.random() < MUTATION_CHANCE:\n",
    "            gene_index = random.randint(0, len(self.genes) - 1)\n",
    "            self.genes[gene_index] = 1 if self.genes[gene_index] == 0 else 0\n",
    "    \n",
    "    def fitness(self):\n",
    "        return sum(self.genes)\n",
    "\n",
    "    def is_best(self):\n",
    "        return self.fitness() == GENES_LENGTH\n",
    "\n",
    "    def crossover(self, partner: 'Individual'):\n",
    "        \n",
    "        split_index = random.randint(1, GENES_LENGTH - 2)\n",
    "\n",
    "        chaild_1 = Individual(self.genes[:split_index] + partner.genes[split_index:])\n",
    "        chaild_2 = Individual(partner.genes[:split_index] + self.genes[split_index:])\n",
    "\n",
    "        chaild_1.mutation()\n",
    "        chaild_2.mutation()\n",
    "\n",
    "\n",
    "        return chaild_1, chaild_2\n",
    "\n",
    "\n",
    "    "
   ]
  },
  {
   "cell_type": "code",
   "execution_count": 5,
   "metadata": {},
   "outputs": [
    {
     "name": "stdout",
     "output_type": "stream",
     "text": [
      "Generation: 0, Best fitness: 16\n",
      "Generation: 1, Best fitness: 18\n",
      "Generation: 2, Best fitness: 17\n",
      "Generation: 3, Best fitness: 18\n",
      "Generation: 4, Best fitness: 17\n",
      "Generation: 5, Best fitness: 18\n",
      "Generation: 6, Best fitness: 16\n",
      "Generation: 7, Best fitness: 16\n",
      "Generation: 8, Best fitness: 16\n",
      "Generation: 9, Best fitness: 16\n",
      "Generation: 10, Best fitness: 17\n",
      "Generation: 11, Best fitness: 17\n",
      "Generation: 12, Best fitness: 17\n",
      "Generation: 13, Best fitness: 18\n",
      "Generation: 14, Best fitness: 18\n",
      "Generation: 15, Best fitness: 17\n",
      "Generation: 16, Best fitness: 18\n",
      "Generation: 17, Best fitness: 17\n",
      "Generation: 18, Best fitness: 18\n",
      "Generation: 19, Best fitness: 16\n",
      "Generation: 20, Best fitness: 17\n",
      "Generation: 21, Best fitness: 18\n",
      "Generation: 22, Best fitness: 17\n",
      "Generation: 23, Best fitness: 18\n",
      "Generation: 24, Best fitness: 18\n",
      "Generation: 25, Best fitness: 17\n",
      "Generation: 26, Best fitness: 17\n",
      "Generation: 27, Best fitness: 17\n",
      "Generation: 28, Best fitness: 17\n",
      "Generation: 29, Best fitness: 17\n",
      "Generation: 30, Best fitness: 17\n",
      "Generation: 31, Best fitness: 18\n",
      "Generation: 32, Best fitness: 18\n",
      "Generation: 33, Best fitness: 17\n",
      "Generation: 34, Best fitness: 18\n",
      "Generation: 35, Best fitness: 16\n",
      "Generation: 36, Best fitness: 16\n",
      "Generation: 37, Best fitness: 18\n",
      "Generation: 38, Best fitness: 16\n",
      "Generation: 39, Best fitness: 17\n",
      "Generation: 40, Best fitness: 16\n",
      "Generation: 41, Best fitness: 17\n",
      "Generation: 42, Best fitness: 17\n",
      "Generation: 43, Best fitness: 16\n",
      "Generation: 44, Best fitness: 18\n",
      "Generation: 45, Best fitness: 18\n",
      "Generation: 46, Best fitness: 18\n",
      "Generation: 47, Best fitness: 19\n",
      "Generation: 48, Best fitness: 19\n",
      "Generation: 49, Best fitness: 20\n",
      "[1, 1, 1, 1, 1, 1, 1, 1, 1, 1, 1, 1, 1, 1, 1, 1, 1, 1, 1, 1]\n"
     ]
    }
   ],
   "source": [
    "population = [Individual() for _ in range(POPULATION_SIZE)]\n",
    "generation = 0\n",
    "\n",
    "while True:\n",
    "    population.sort(key=lambda x: x.fitness(), reverse=True)\n",
    "    print(f\"Generation: {generation}, Best fitness: {population[0].fitness()}\")\n",
    "\n",
    "    if population[0].is_best():\n",
    "        break\n",
    "    \n",
    "    # first_partner_index = random.randint(2, POPULATION_SIZE - 1)\n",
    "    # second_partner_index = random.randint(2, POPULATION_SIZE - 1)\n",
    "    # while second_partner_index == first_partner_index:\n",
    "    #     second_partner_index = random.randint(2, POPULATION_SIZE - 1)\n",
    "\n",
    "\n",
    "    # population[0], population[first_partner_index] = population[0].crossover(population[first_partner_index])\n",
    "    # population[1], population[second_partner_index] = population[1].crossover(population[second_partner_index])\n",
    "\n",
    "    population[0], population[1] = population[0].crossover(population[1])\n",
    "    \n",
    "    generation += 1\n",
    "\n",
    "\n",
    "\n",
    "\n",
    "print(population[0].genes)"
   ]
  },
  {
   "cell_type": "markdown",
   "metadata": {},
   "source": []
  }
 ],
 "metadata": {
  "kernelspec": {
   "display_name": ".venv",
   "language": "python",
   "name": "python3"
  },
  "language_info": {
   "codemirror_mode": {
    "name": "ipython",
    "version": 3
   },
   "file_extension": ".py",
   "mimetype": "text/x-python",
   "name": "python",
   "nbconvert_exporter": "python",
   "pygments_lexer": "ipython3",
   "version": "3.12.5"
  }
 },
 "nbformat": 4,
 "nbformat_minor": 2
}
